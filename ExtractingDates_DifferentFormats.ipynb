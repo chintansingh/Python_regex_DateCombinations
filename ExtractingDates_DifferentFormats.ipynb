{
 "cells": [
  {
   "cell_type": "markdown",
   "metadata": {},
   "source": [
    "#  REGEX - Extracting, cleaning and sorting dates from messy data\n",
    "\n",
    "Each line of the `dates.txt` file corresponds to a medical note. Each note has a date that needs to be extracted, but each date is encoded in one of many formats.\n",
    "\n",
    "The goal is to correctly identify all of the different date variants encoded in this dataset and to properly normalize and sort the dates. \n",
    "\n",
    "Here is a list of some of the variants in the dataset:\n",
    "* 04/20/2009; 04/20/09; 4/20/09; 4/3/09\n",
    "* Mar-20-2009; Mar 20, 2009; March 20, 2009;  Mar. 20, 2009; Mar 20 2009;\n",
    "* 20 Mar 2009; 20 March 2009; 20 Mar. 2009; 20 March, 2009\n",
    "* Mar 20th, 2009; Mar 21st, 2009; Mar 22nd, 2009\n",
    "* Feb 2009; Sep 2009; Oct 2010\n",
    "* 6/2008; 12/2009\n",
    "* 2009; 2010\n",
    "\n",
    "Once the dates are extracted from the text, the next step is to sort them in ascending chronological order accoring to the following rules:\n",
    "* Assume all dates in xx/xx/xx format are mm/dd/yy\n",
    "* Assume all dates where year is encoded in only two digits are years from the 1900's (e.g. 1/5/89 is January 5th, 1989)\n",
    "* If the day is missing (e.g. 9/2009), assume it is the first day of the month (e.g. September 1, 2009).\n",
    "* If the month is missing (e.g. 2010), assume it is the first of January of that year (e.g. January 1, 2010).\n",
    "* Watch out for potential typos as this is a raw, real-life derived dataset.\n",
    "\n",
    "With these rules in mind, find the correct date in each note and return a pandas Series in chronological order of the original Series' indices.\n",
    "\n",
    "For example if the original series was this:\n",
    "\n",
    "    0    1999\n",
    "    1    2010\n",
    "    2    1978\n",
    "    3    2015\n",
    "    4    1985\n",
    "\n",
    "The function should return this:\n",
    "\n",
    "    0    2\n",
    "    1    4\n",
    "    2    0\n",
    "    3    1\n",
    "    4    3\n",
    "*This function should return a Series of length 500 and dtype int.*"
   ]
  },
  {
   "cell_type": "code",
   "execution_count": 1,
   "metadata": {},
   "outputs": [
    {
     "name": "stdout",
     "output_type": "stream",
     "text": [
      "Sample raw data:\n",
      "100                        8/16/92 SOS-10 Total Score:\\n\n",
      "101      10/05/97 CPT Code: 90791: No medical services\\n\n",
      "102    07/18/2002 CPT Code: 90792: With medical servi...\n",
      "103          9/22/82 Total time of visit (in minutes):\\n\n",
      "104                        2/24/74 SOS-10 Total Score:\\n\n",
      "105    (2/03/78) TSH-0.90 Activities of Daily Living ...\n",
      "106     2/11/2006 CPT Code: 90791: No medical services\\n\n",
      "107    Pt is a 21 year old, single, heterosexual iden...\n",
      "108    PET Scan (DPSH 5/04/74): 1) Marked hypometabol...\n",
      "109                             7/20/2011 [report_end]\\n\n",
      "110          6/17/95 Total time of visit (in minutes):\\n\n",
      "111                        6/10/72 SOS-10 Total Score:\\n\n",
      "112    nPt denied use to me but endorsed use on 10/16...\n",
      "113    12/15/92 CPT Code: 90801 - Psychiatric Diagnos...\n",
      "114                        12/8/97 SOS-10 Total Score:\\n\n",
      "115                       4/05/89 Primary Care Doctor:\\n\n",
      "116                       12/04/87 SOS-10 Total Score:\\n\n",
      "117                  4 (6/20/77)Audit C Score Current:\\n\n",
      "118    see 4/27/2006 consult note Dr. GuevaraWhat fac...\n",
      "119      07/17/92 CPT Code: 90791: No medical services\\n\n",
      "120    12/22/98 CPT Code: 90801 - Psychiatric Diagnos...\n",
      "121                                      10/02/96 Age:\\n\n",
      "122    11/05/90 CPT Code: 90792: With medical services\\n\n",
      "123     5/04/77 CPT Code: 90792: With medical services\\n\n",
      "124    2/27/96 Communication with referring physician...\n",
      "125    s The patient is a 44 year old married Caucasi...\n",
      "126    .10 Sep 2004 - Intake at EEC for IOP but did n...\n",
      "127    see above and APS eval of 26 May 1982 Social H...\n",
      "128    Tbooked for intake appointment at Sierra Vista...\n",
      "129                    06 May 1972 SOS-10 Total Score:\\n\n",
      "130      25 Oct 1987 Total time of visit (in minutes):\\n\n",
      "131                    14 Oct 1996 SOS-10 Total Score:\\n\n",
      "132    30 Nov 2007 CPT Code: 90801 - Psychiatric Diag...\n",
      "133    h missed intake office visit on 28 June 1994 a...\n",
      "134                    14 Jan 1981 SOS-10 Total Score:\\n\n",
      "135      .On 10 Oct 1985 patient began FMLA from work.\\n\n",
      "136    11 February 1985 CPT Code: 90801 - Psychiatric...\n",
      "137    7intake for follow up treatment at Anson Gener...\n",
      "138    s The patient is a 49 year old married Canadia...\n",
      "139    ssee 21 Oct 2012 Schroder Hospital discharge s...\n",
      "dtype: object\n"
     ]
    }
   ],
   "source": [
    "import pandas as pd\n",
    "import re\n",
    "import numpy as np\n",
    "\n",
    "doc = []\n",
    "with open('dates.txt') as file:\n",
    "    for line in file:\n",
    "        doc.append(line)\n",
    "\n",
    "df = pd.Series(doc)\n",
    "\n",
    "print(\"Sample raw data:\")\n",
    "print(df.iloc[100:140])"
   ]
  },
  {
   "cell_type": "code",
   "execution_count": 2,
   "metadata": {},
   "outputs": [],
   "source": [
    "def date_sorter():\n",
    "\n",
    "    date = []\n",
    "    for i,d in enumerate(df):\n",
    "        date.append(re.findall(r'\\d{1,2}[ /-]\\d{1,2}[ /-]\\d{4}',d))\n",
    "    \n",
    "        if date[i] == []:\n",
    "            date[i] = (re.findall(r'\\d{1,2}[ /-]\\d{1,2}[ /-]\\d{2}', d))\n",
    "    \n",
    "        # option 2: [Day] Mon(th) year\n",
    "        if date[i] == []:\n",
    "            date[i] = (re.findall(r'\\d{0,2}[ \\-]*(?:Jan|Feb|Mar|Apr|May|Jun|Jul|Aug|Sep|Oct|Nov|Dec)[a-z]*[ \\-,]*[ ]*\\d{4}', d))\n",
    "    \n",
    "        # option 3: Mon(th) Day, Year\n",
    "        if date[i] == []:\n",
    "            date[i] = (re.findall(r'(?:Jan|Feb|Mar|Apr|May|Jun|Jul|Aug|Sep|Oct|Nov|Dec)[a-z]*[ \\-.][ ]*\\d{2}[ ,\\-]*[ ]*\\d{4}', d))\n",
    "        \n",
    "        # option 4: Mon(th) Year\n",
    "        if date[i] == []:\n",
    "            date[i] = (re.findall(r'\\d{1,2}[ /-]\\d{4}', d))\n",
    "        \n",
    "        if date[i] == []:\n",
    "            date[i] = (re.findall(r'\\d{1,2}[ /-]\\d{2}', d))\n",
    "        \n",
    "        # option 5: Year\n",
    "        if date[i] == []:\n",
    "            date[i] = (re.findall(r'\\d{4}', d))\n",
    "    \n",
    "    \n",
    "    date = pd.Series(v[0].strip() for v in date )\n",
    "    dates = date.replace('Decemeber','December',regex=True).replace('Janaury','January',regex=True)\n",
    "    dates = pd.to_datetime(dates, errors = 'coerce')\n",
    "    \n",
    "    \n",
    "\n",
    "    return dates, pd.Series(pd.Series(dates.sort_values()).index)\n",
    "   \n"
   ]
  },
  {
   "cell_type": "code",
   "execution_count": 3,
   "metadata": {},
   "outputs": [
    {
     "name": "stdout",
     "output_type": "stream",
     "text": [
      "Exracted and cleaned dates:\n",
      "100   1992-08-16\n",
      "101   1997-10-05\n",
      "102   2002-07-18\n",
      "103   1982-09-22\n",
      "104   1974-02-24\n",
      "105   1978-02-03\n",
      "106   2006-02-11\n",
      "107   1983-08-22\n",
      "108   1974-05-04\n",
      "109   2011-07-20\n",
      "110   1995-06-17\n",
      "111   1972-06-10\n",
      "112   1982-10-16\n",
      "113   1992-12-15\n",
      "114   1997-12-08\n",
      "115   1989-04-05\n",
      "116   1987-12-04\n",
      "117   1977-06-20\n",
      "118   2006-04-27\n",
      "119   1992-07-17\n",
      "120   1998-12-22\n",
      "121   1996-10-02\n",
      "122   1990-11-05\n",
      "123   1977-05-04\n",
      "124   1996-02-27\n",
      "125   2001-01-24\n",
      "126   2004-09-10\n",
      "127   1982-05-26\n",
      "128   2002-06-28\n",
      "129   1972-05-06\n",
      "130   1987-10-25\n",
      "131   1996-10-14\n",
      "132   2007-11-30\n",
      "133   1994-06-28\n",
      "134   1981-01-14\n",
      "135   1985-10-10\n",
      "136   1985-02-11\n",
      "137   1983-02-10\n",
      "138   1992-02-05\n",
      "139   2012-10-21\n",
      "dtype: datetime64[ns]\n"
     ]
    }
   ],
   "source": [
    "dates, idx = date_sorter()\n",
    "print(\"Exracted and cleaned dates:\")\n",
    "print(dates[100:140])"
   ]
  },
  {
   "cell_type": "code",
   "execution_count": 4,
   "metadata": {},
   "outputs": [
    {
     "name": "stdout",
     "output_type": "stream",
     "text": [
      "Sorted index:\n"
     ]
    },
    {
     "data": {
      "text/plain": [
       "0        9\n",
       "1       84\n",
       "2        2\n",
       "3       53\n",
       "4       28\n",
       "      ... \n",
       "495    186\n",
       "496    161\n",
       "497    413\n",
       "498    392\n",
       "499    490\n",
       "Length: 500, dtype: int64"
      ]
     },
     "execution_count": 4,
     "metadata": {},
     "output_type": "execute_result"
    }
   ],
   "source": [
    "print(\"Sorted index:\")\n",
    "idx"
   ]
  },
  {
   "cell_type": "code",
   "execution_count": null,
   "metadata": {},
   "outputs": [],
   "source": []
  }
 ],
 "metadata": {
  "coursera": {
   "course_slug": "python-text-mining",
   "graded_item_id": "LvcWI",
   "launcher_item_id": "krne9",
   "part_id": "Mkp1I"
  },
  "kernelspec": {
   "display_name": "Python 3",
   "language": "python",
   "name": "python3"
  },
  "language_info": {
   "codemirror_mode": {
    "name": "ipython",
    "version": 3
   },
   "file_extension": ".py",
   "mimetype": "text/x-python",
   "name": "python",
   "nbconvert_exporter": "python",
   "pygments_lexer": "ipython3",
   "version": "3.7.6"
  }
 },
 "nbformat": 4,
 "nbformat_minor": 2
}
